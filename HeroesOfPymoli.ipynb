{
 "cells": [
  {
   "cell_type": "code",
   "execution_count": 37,
   "metadata": {},
   "outputs": [
    {
     "name": "stdout",
     "output_type": "stream",
     "text": [
      "<class 'pandas.core.frame.DataFrame'>\n",
      "RangeIndex: 780 entries, 0 to 779\n",
      "Data columns (total 7 columns):\n",
      " #   Column       Non-Null Count  Dtype  \n",
      "---  ------       --------------  -----  \n",
      " 0   Purchase ID  780 non-null    int64  \n",
      " 1   SN           780 non-null    object \n",
      " 2   Age          780 non-null    int64  \n",
      " 3   Gender       780 non-null    object \n",
      " 4   Item ID      780 non-null    int64  \n",
      " 5   Item Name    780 non-null    object \n",
      " 6   Price        780 non-null    float64\n",
      "dtypes: float64(1), int64(3), object(3)\n",
      "memory usage: 42.8+ KB\n"
     ]
    },
    {
     "data": {
      "text/html": [
       "<div>\n",
       "<style scoped>\n",
       "    .dataframe tbody tr th:only-of-type {\n",
       "        vertical-align: middle;\n",
       "    }\n",
       "\n",
       "    .dataframe tbody tr th {\n",
       "        vertical-align: top;\n",
       "    }\n",
       "\n",
       "    .dataframe thead th {\n",
       "        text-align: right;\n",
       "    }\n",
       "</style>\n",
       "<table border=\"1\" class=\"dataframe\">\n",
       "  <thead>\n",
       "    <tr style=\"text-align: right;\">\n",
       "      <th></th>\n",
       "      <th>Purchase ID</th>\n",
       "      <th>SN</th>\n",
       "      <th>Age</th>\n",
       "      <th>Gender</th>\n",
       "      <th>Item ID</th>\n",
       "      <th>Item Name</th>\n",
       "      <th>Price</th>\n",
       "    </tr>\n",
       "  </thead>\n",
       "  <tbody>\n",
       "    <tr>\n",
       "      <th>0</th>\n",
       "      <td>0</td>\n",
       "      <td>Lisim78</td>\n",
       "      <td>20</td>\n",
       "      <td>Male</td>\n",
       "      <td>108</td>\n",
       "      <td>Extraction, Quickblade Of Trembling Hands</td>\n",
       "      <td>3.53</td>\n",
       "    </tr>\n",
       "    <tr>\n",
       "      <th>1</th>\n",
       "      <td>1</td>\n",
       "      <td>Lisovynya38</td>\n",
       "      <td>40</td>\n",
       "      <td>Male</td>\n",
       "      <td>143</td>\n",
       "      <td>Frenzied Scimitar</td>\n",
       "      <td>1.56</td>\n",
       "    </tr>\n",
       "    <tr>\n",
       "      <th>2</th>\n",
       "      <td>2</td>\n",
       "      <td>Ithergue48</td>\n",
       "      <td>24</td>\n",
       "      <td>Male</td>\n",
       "      <td>92</td>\n",
       "      <td>Final Critic</td>\n",
       "      <td>4.88</td>\n",
       "    </tr>\n",
       "    <tr>\n",
       "      <th>3</th>\n",
       "      <td>3</td>\n",
       "      <td>Chamassasya86</td>\n",
       "      <td>24</td>\n",
       "      <td>Male</td>\n",
       "      <td>100</td>\n",
       "      <td>Blindscythe</td>\n",
       "      <td>3.27</td>\n",
       "    </tr>\n",
       "    <tr>\n",
       "      <th>4</th>\n",
       "      <td>4</td>\n",
       "      <td>Iskosia90</td>\n",
       "      <td>23</td>\n",
       "      <td>Male</td>\n",
       "      <td>131</td>\n",
       "      <td>Fury</td>\n",
       "      <td>1.44</td>\n",
       "    </tr>\n",
       "  </tbody>\n",
       "</table>\n",
       "</div>"
      ],
      "text/plain": [
       "   Purchase ID             SN  Age Gender  Item ID  \\\n",
       "0            0        Lisim78   20   Male      108   \n",
       "1            1    Lisovynya38   40   Male      143   \n",
       "2            2     Ithergue48   24   Male       92   \n",
       "3            3  Chamassasya86   24   Male      100   \n",
       "4            4      Iskosia90   23   Male      131   \n",
       "\n",
       "                                   Item Name  Price  \n",
       "0  Extraction, Quickblade Of Trembling Hands   3.53  \n",
       "1                          Frenzied Scimitar   1.56  \n",
       "2                               Final Critic   4.88  \n",
       "3                                Blindscythe   3.27  \n",
       "4                                       Fury   1.44  "
      ]
     },
     "execution_count": 37,
     "metadata": {},
     "output_type": "execute_result"
    }
   ],
   "source": [
    "# Dependencies and Setup\n",
    "import pandas as pd\n",
    "\n",
    "# File to Load (Remember to Change These)\n",
    "file_to_load = \"Resources/purchase_data.csv\"\n",
    "\n",
    "# Read Purchasing File and store into Pandas data frame\n",
    "purchase_data = pd.read_csv(file_to_load)\n",
    "\n",
    "purchase_data.info()\n",
    "purchase_data.head()"
   ]
  },
  {
   "cell_type": "markdown",
   "metadata": {},
   "source": [
    "## Player Count"
   ]
  },
  {
   "cell_type": "markdown",
   "metadata": {},
   "source": [
    "* Display the total number of players\n"
   ]
  },
  {
   "cell_type": "code",
   "execution_count": 38,
   "metadata": {},
   "outputs": [
    {
     "data": {
      "text/html": [
       "<div>\n",
       "<style scoped>\n",
       "    .dataframe tbody tr th:only-of-type {\n",
       "        vertical-align: middle;\n",
       "    }\n",
       "\n",
       "    .dataframe tbody tr th {\n",
       "        vertical-align: top;\n",
       "    }\n",
       "\n",
       "    .dataframe thead th {\n",
       "        text-align: right;\n",
       "    }\n",
       "</style>\n",
       "<table border=\"1\" class=\"dataframe\">\n",
       "  <thead>\n",
       "    <tr style=\"text-align: right;\">\n",
       "      <th></th>\n",
       "      <th>Total players</th>\n",
       "    </tr>\n",
       "  </thead>\n",
       "  <tbody>\n",
       "    <tr>\n",
       "      <th>0</th>\n",
       "      <td>576</td>\n",
       "    </tr>\n",
       "  </tbody>\n",
       "</table>\n",
       "</div>"
      ],
      "text/plain": [
       "   Total players\n",
       "0            576"
      ]
     },
     "execution_count": 38,
     "metadata": {},
     "output_type": "execute_result"
    }
   ],
   "source": [
    "# calculate total players count \n",
    "total_players = purchase_data['SN'].nunique()\n",
    "\n",
    "# create a data frame with total_players count \n",
    "player_count_df = pd.DataFrame({\"Total players\":total_players},index = [0])\n",
    "player_count_df"
   ]
  },
  {
   "cell_type": "markdown",
   "metadata": {},
   "source": [
    "## Purchasing Analysis (Total)"
   ]
  },
  {
   "cell_type": "markdown",
   "metadata": {},
   "source": [
    "* Run basic calculations to obtain number of unique items, average price, etc.\n",
    "\n",
    "\n",
    "* Create a summary data frame to hold the results\n",
    "\n",
    "\n",
    "* Optional: give the displayed data cleaner formatting\n",
    "\n",
    "\n",
    "* Display the summary data frame\n"
   ]
  },
  {
   "cell_type": "code",
   "execution_count": 55,
   "metadata": {
    "scrolled": true
   },
   "outputs": [
    {
     "data": {
      "text/html": [
       "<div>\n",
       "<style scoped>\n",
       "    .dataframe tbody tr th:only-of-type {\n",
       "        vertical-align: middle;\n",
       "    }\n",
       "\n",
       "    .dataframe tbody tr th {\n",
       "        vertical-align: top;\n",
       "    }\n",
       "\n",
       "    .dataframe thead th {\n",
       "        text-align: right;\n",
       "    }\n",
       "</style>\n",
       "<table border=\"1\" class=\"dataframe\">\n",
       "  <thead>\n",
       "    <tr style=\"text-align: right;\">\n",
       "      <th></th>\n",
       "      <th>Number of Unique Items</th>\n",
       "      <th>Average Price</th>\n",
       "      <th>Number of Purchases</th>\n",
       "      <th>Total Revenue</th>\n",
       "    </tr>\n",
       "  </thead>\n",
       "  <tbody>\n",
       "    <tr>\n",
       "      <th>0</th>\n",
       "      <td>179</td>\n",
       "      <td>$3.05</td>\n",
       "      <td>780</td>\n",
       "      <td>$2379.77</td>\n",
       "    </tr>\n",
       "  </tbody>\n",
       "</table>\n",
       "</div>"
      ],
      "text/plain": [
       "   Number of Unique Items Average Price  Number of Purchases Total Revenue\n",
       "0                     179         $3.05                  780      $2379.77"
      ]
     },
     "execution_count": 55,
     "metadata": {},
     "output_type": "execute_result"
    }
   ],
   "source": [
    "# Calculating the Number of unique Items\n",
    "unique_items = purchase_data[\"Item ID\"].nunique()\n",
    "\n",
    "# Calculating the Average Price\n",
    "avg_price = purchase_data[\"Price\"].mean()\n",
    "\n",
    "# Calculating the Number of Purchases\n",
    "no_of_purchases = purchase_data[\"Purchase ID\"].count()\n",
    "\n",
    "# Calculating and currency formatting the Total Price\n",
    "total_price = \"${:.2f}\".format(purchase_data[\"Price\"].sum())\n",
    "\n",
    "# creating a summary dataframe\n",
    "summary_data = pd.DataFrame({\"Number of Unique Items\":unique_items,\"Average Price\":avg_price,\"Number of Purchases\":no_of_purchases,\"Total Revenue\":total_price}, index=[0])\n",
    "\n",
    "# rounding and adding currency formating to Average Price columns\n",
    "summary_data['Average Price'] = summary_data['Average Price'].map(\"${:.2f}\".format)\n",
    "summary_data"
   ]
  },
  {
   "cell_type": "markdown",
   "metadata": {},
   "source": [
    "## Gender Demographics"
   ]
  },
  {
   "cell_type": "markdown",
   "metadata": {},
   "source": [
    "* Percentage and Count of Male Players\n",
    "\n",
    "\n",
    "* Percentage and Count of Female Players\n",
    "\n",
    "\n",
    "* Percentage and Count of Other / Non-Disclosed\n",
    "\n",
    "\n"
   ]
  },
  {
   "cell_type": "code",
   "execution_count": 43,
   "metadata": {},
   "outputs": [
    {
     "data": {
      "text/html": [
       "<style  type=\"text/css\" >\n",
       "</style><table id=\"T_881d3c09_ffcf_11ea_9f70_00e0459d5c33\" ><thead>    <tr>        <th class=\"blank level0\" ></th>        <th class=\"col_heading level0 col0\" >Total Players</th>        <th class=\"col_heading level0 col1\" >Percentage of Players</th>    </tr>    <tr>        <th class=\"index_name level0\" >Gender</th>        <th class=\"blank\" ></th>        <th class=\"blank\" ></th>    </tr></thead><tbody>\n",
       "                <tr>\n",
       "                        <th id=\"T_881d3c09_ffcf_11ea_9f70_00e0459d5c33level0_row0\" class=\"row_heading level0 row0\" >Male</th>\n",
       "                        <td id=\"T_881d3c09_ffcf_11ea_9f70_00e0459d5c33row0_col0\" class=\"data row0 col0\" >484</td>\n",
       "                        <td id=\"T_881d3c09_ffcf_11ea_9f70_00e0459d5c33row0_col1\" class=\"data row0 col1\" >84.03%</td>\n",
       "            </tr>\n",
       "            <tr>\n",
       "                        <th id=\"T_881d3c09_ffcf_11ea_9f70_00e0459d5c33level0_row1\" class=\"row_heading level0 row1\" >Female</th>\n",
       "                        <td id=\"T_881d3c09_ffcf_11ea_9f70_00e0459d5c33row1_col0\" class=\"data row1 col0\" >81</td>\n",
       "                        <td id=\"T_881d3c09_ffcf_11ea_9f70_00e0459d5c33row1_col1\" class=\"data row1 col1\" >14.06%</td>\n",
       "            </tr>\n",
       "            <tr>\n",
       "                        <th id=\"T_881d3c09_ffcf_11ea_9f70_00e0459d5c33level0_row2\" class=\"row_heading level0 row2\" >Other / Non-Disclosed</th>\n",
       "                        <td id=\"T_881d3c09_ffcf_11ea_9f70_00e0459d5c33row2_col0\" class=\"data row2 col0\" >11</td>\n",
       "                        <td id=\"T_881d3c09_ffcf_11ea_9f70_00e0459d5c33row2_col1\" class=\"data row2 col1\" >1.91%</td>\n",
       "            </tr>\n",
       "    </tbody></table>"
      ],
      "text/plain": [
       "<pandas.io.formats.style.Styler at 0x22b8daba430>"
      ]
     },
     "execution_count": 43,
     "metadata": {},
     "output_type": "execute_result"
    }
   ],
   "source": [
    "# calculating Number of players in each Gender\n",
    "gender_count = purchase_data.groupby(\"Gender\")[\"SN\"].nunique()\n",
    "\n",
    "# calculating Percentage of Players in each Gender\n",
    "gender_percent = gender_count / total_players * 100\n",
    "\n",
    "# creating a new data frame with Total Players and Percentage of Players in each Gender\n",
    "gender_data  = pd.DataFrame({\"Total Players\":gender_count, \"Percentage of Players\": gender_percent})\n",
    "\n",
    "# sorting and adding percentage format styling to display\n",
    "gender_data.sort_values([\"Total Players\"], ascending = False).style.format({\"Percentage of Players\":\"{:.2f}%\"})"
   ]
  },
  {
   "cell_type": "markdown",
   "metadata": {},
   "source": [
    "\n",
    "## Purchasing Analysis (Gender)"
   ]
  },
  {
   "cell_type": "markdown",
   "metadata": {},
   "source": [
    "* Run basic calculations to obtain purchase count, avg. purchase price, avg. purchase total per person etc. by gender\n",
    "\n",
    "\n",
    "\n",
    "\n",
    "* Create a summary data frame to hold the results\n",
    "\n",
    "\n",
    "* Optional: give the displayed data cleaner formatting\n",
    "\n",
    "\n",
    "* Display the summary data frame"
   ]
  },
  {
   "cell_type": "code",
   "execution_count": 53,
   "metadata": {},
   "outputs": [
    {
     "data": {
      "text/html": [
       "<style  type=\"text/css\" >\n",
       "</style><table id=\"T_0f3d8fe1_ffd5_11ea_9556_00e0459d5c33\" ><thead>    <tr>        <th class=\"blank level0\" ></th>        <th class=\"col_heading level0 col0\" >Purchase Count</th>        <th class=\"col_heading level0 col1\" >Average Purchase Price</th>        <th class=\"col_heading level0 col2\" >Total Purchase Value</th>        <th class=\"col_heading level0 col3\" >Avg Total Purchase per Person</th>    </tr>    <tr>        <th class=\"index_name level0\" >Gender</th>        <th class=\"blank\" ></th>        <th class=\"blank\" ></th>        <th class=\"blank\" ></th>        <th class=\"blank\" ></th>    </tr></thead><tbody>\n",
       "                <tr>\n",
       "                        <th id=\"T_0f3d8fe1_ffd5_11ea_9556_00e0459d5c33level0_row0\" class=\"row_heading level0 row0\" >Female</th>\n",
       "                        <td id=\"T_0f3d8fe1_ffd5_11ea_9556_00e0459d5c33row0_col0\" class=\"data row0 col0\" >113</td>\n",
       "                        <td id=\"T_0f3d8fe1_ffd5_11ea_9556_00e0459d5c33row0_col1\" class=\"data row0 col1\" >$3.20</td>\n",
       "                        <td id=\"T_0f3d8fe1_ffd5_11ea_9556_00e0459d5c33row0_col2\" class=\"data row0 col2\" >$361.94</td>\n",
       "                        <td id=\"T_0f3d8fe1_ffd5_11ea_9556_00e0459d5c33row0_col3\" class=\"data row0 col3\" >$4.47</td>\n",
       "            </tr>\n",
       "            <tr>\n",
       "                        <th id=\"T_0f3d8fe1_ffd5_11ea_9556_00e0459d5c33level0_row1\" class=\"row_heading level0 row1\" >Male</th>\n",
       "                        <td id=\"T_0f3d8fe1_ffd5_11ea_9556_00e0459d5c33row1_col0\" class=\"data row1 col0\" >652</td>\n",
       "                        <td id=\"T_0f3d8fe1_ffd5_11ea_9556_00e0459d5c33row1_col1\" class=\"data row1 col1\" >$3.02</td>\n",
       "                        <td id=\"T_0f3d8fe1_ffd5_11ea_9556_00e0459d5c33row1_col2\" class=\"data row1 col2\" >$1967.64</td>\n",
       "                        <td id=\"T_0f3d8fe1_ffd5_11ea_9556_00e0459d5c33row1_col3\" class=\"data row1 col3\" >$4.07</td>\n",
       "            </tr>\n",
       "            <tr>\n",
       "                        <th id=\"T_0f3d8fe1_ffd5_11ea_9556_00e0459d5c33level0_row2\" class=\"row_heading level0 row2\" >Other / Non-Disclosed</th>\n",
       "                        <td id=\"T_0f3d8fe1_ffd5_11ea_9556_00e0459d5c33row2_col0\" class=\"data row2 col0\" >15</td>\n",
       "                        <td id=\"T_0f3d8fe1_ffd5_11ea_9556_00e0459d5c33row2_col1\" class=\"data row2 col1\" >$3.35</td>\n",
       "                        <td id=\"T_0f3d8fe1_ffd5_11ea_9556_00e0459d5c33row2_col2\" class=\"data row2 col2\" >$50.19</td>\n",
       "                        <td id=\"T_0f3d8fe1_ffd5_11ea_9556_00e0459d5c33row2_col3\" class=\"data row2 col3\" >$4.56</td>\n",
       "            </tr>\n",
       "    </tbody></table>"
      ],
      "text/plain": [
       "<pandas.io.formats.style.Styler at 0x22b8ebb0400>"
      ]
     },
     "execution_count": 53,
     "metadata": {},
     "output_type": "execute_result"
    }
   ],
   "source": [
    "# Using aggregate function to run basic calculations on Price group by gender\n",
    "gender_purchase_data = purchase_data.groupby(\"Gender\")[\"Price\"].agg(['count','mean','sum'])\n",
    "\n",
    "# Adding another coulumn to the Data Frame for Avg Purchase per person\n",
    "gender_purchase_data[\"Avg Total Purchase per Person\"] = purchase_data.groupby(\"Gender\")[\"Price\"].sum() / gender_count\n",
    "\n",
    "# Renaming column headers \n",
    "gender_purchase_data = gender_purchase_data.rename(columns={\"count\":\"Purchase Count\", \"mean\":\"Average Purchase Price\", \"sum\":\"Total Purchase Value\"})\n",
    "\n",
    "# Adding currency format styling to display\n",
    "gender_purchase_data.style.format({\"Average Purchase Price\": \"${:.2f}\", \n",
    "                                   \"Total Purchase Value\": \"${:.2f}\", \n",
    "                                   \"Avg Total Purchase per Person\": \"${:.2f}\"})"
   ]
  },
  {
   "cell_type": "markdown",
   "metadata": {},
   "source": [
    "## Age Demographics"
   ]
  },
  {
   "cell_type": "markdown",
   "metadata": {},
   "source": [
    "* Establish bins for ages\n",
    "\n",
    "\n",
    "* Categorize the existing players using the age bins.\n",
    "\n",
    "\n",
    "* Calculate the numbers and percentages by age group\n",
    "\n",
    "\n",
    "* Create a summary data frame to hold the results\n",
    "\n",
    "\n",
    "* Optional: round the percentage column to two decimal points\n",
    "\n",
    "\n",
    "* Display Age Demographics Table\n"
   ]
  },
  {
   "cell_type": "code",
   "execution_count": 6,
   "metadata": {},
   "outputs": [
    {
     "ename": "NameError",
     "evalue": "name 'age_data' is not defined",
     "output_type": "error",
     "traceback": [
      "\u001b[1;31m---------------------------------------------------------------------------\u001b[0m",
      "\u001b[1;31mNameError\u001b[0m                                 Traceback (most recent call last)",
      "\u001b[1;32m<ipython-input-6-97f4f15acea7>\u001b[0m in \u001b[0;36m<module>\u001b[1;34m\u001b[0m\n\u001b[1;32m----> 1\u001b[1;33m \u001b[0mage_data\u001b[0m\u001b[1;33m\u001b[0m\u001b[1;33m\u001b[0m\u001b[0m\n\u001b[0m",
      "\u001b[1;31mNameError\u001b[0m: name 'age_data' is not defined"
     ]
    }
   ],
   "source": [
    "age_data "
   ]
  },
  {
   "cell_type": "markdown",
   "metadata": {},
   "source": [
    "## Purchasing Analysis (Age)"
   ]
  },
  {
   "cell_type": "markdown",
   "metadata": {},
   "source": [
    "* Bin the purchase_data data frame by age\n",
    "\n",
    "\n",
    "* Run basic calculations to obtain purchase count, avg. purchase price, avg. purchase total per person etc. in the table below\n",
    "\n",
    "\n",
    "* Create a summary data frame to hold the results\n",
    "\n",
    "\n",
    "* Optional: give the displayed data cleaner formatting\n",
    "\n",
    "\n",
    "* Display the summary data frame"
   ]
  },
  {
   "cell_type": "code",
   "execution_count": null,
   "metadata": {},
   "outputs": [],
   "source": [
    "age_purchase_data"
   ]
  },
  {
   "cell_type": "markdown",
   "metadata": {},
   "source": [
    "## Top Spenders"
   ]
  },
  {
   "cell_type": "markdown",
   "metadata": {},
   "source": [
    "Identify the the top 5 spenders in the game by total purchase value:\n",
    "\n",
    "* Run basic calculations to obtain the results in the table below\n",
    "\n",
    "\n",
    "* Create a summary data frame to hold the results\n",
    "\n",
    "\n",
    "* Sort the total purchase value column in descending order\n",
    "\n",
    "\n",
    "* Optional: give the displayed data cleaner formatting\n",
    "\n",
    "\n",
    "* Display a preview of the summary data frame\n",
    "\n"
   ]
  },
  {
   "cell_type": "code",
   "execution_count": null,
   "metadata": {},
   "outputs": [],
   "source": [
    "# Using aggregate function to run basic calculations on Price group by SN\n",
    "spender_purchase_data = purchase_data.groupby(\"SN\")[\"Price\"].agg(['count','mean','sum'])\n",
    "\n",
    "# Renaming column headers \n",
    "spender_purchase_data = spender_purchase_data.rename(columns={\"count\":\"Purchase Count\", \"mean\":\"Average Purchase Price\", \"sum\":\"Total Purchase Value\"})\n",
    "\n",
    "# Sort in descending order of 'Total Purchase Value' and obtain top 5 spender names and adding currency format styling\n",
    "top_spenders = spender_purchase_data.sort_values([\"Total Purchase Value\"], ascending = False).head().style.format({\"Average Purchase Price\":\"${:.2f}\", \"Total Purchase Value\":\"${:.2f}\"})\n",
    "\n",
    "top_spenders"
   ]
  },
  {
   "cell_type": "markdown",
   "metadata": {},
   "source": [
    "## Most Popular Items"
   ]
  },
  {
   "cell_type": "markdown",
   "metadata": {},
   "source": [
    "Identify the 5 most popular items by purchase count:\n",
    "\n",
    "* Retrieve the Item ID, Item Name, and Item Price columns\n",
    "\n",
    "\n",
    "* Group by Item ID and Item Name. Perform calculations to obtain purchase count, item price, and total purchase value\n",
    "\n",
    "\n",
    "* Create a summary data frame to hold the results\n",
    "\n",
    "\n",
    "* Sort the purchase count column in descending order\n",
    "\n",
    "\n",
    "* Optional: give the displayed data cleaner formatting\n",
    "\n",
    "\n",
    "* Display a preview of the summary data frame\n",
    "\n"
   ]
  },
  {
   "cell_type": "code",
   "execution_count": null,
   "metadata": {},
   "outputs": [],
   "source": [
    "# Retrieve the Item ID, Item Name, and Item Price columns\n",
    "item_data = purchase_data.loc[:,[\"Item ID\", \"Item Name\", \"Price\"]]\n",
    "\n",
    "# Group by Item ID and Item Name\n",
    "item_group = item_data.groupby([\"Item ID\",\"Item Name\"])\n",
    "\n",
    "# create a data frame with calculated values of purchase count, item price, and total purchase value\n",
    "item_purchase_data = pd.DataFrame({\"Purchase Count\":item_group[\"Price\"].count(),\n",
    "                                  \"Item Price\":item_group[\"Price\"].mean(),\n",
    "                                  \"Total Purchase Value\":item_group[\"Price\"].sum()})\n",
    "\n",
    "# Sort in descending order of 'Purchase Count' and obtain top 5 Popular Items and adding currency format styling\n",
    "top_items = item_purchase_data.sort_values([\"Purchase Count\"], ascending = False).head().style.format({\"Item Price\":\"${:.2f}\", \"Total Purchase Value\":\"${:.2f}\"})\n",
    "\n",
    "top_items"
   ]
  },
  {
   "cell_type": "markdown",
   "metadata": {},
   "source": [
    "## Most Profitable Items"
   ]
  },
  {
   "cell_type": "markdown",
   "metadata": {},
   "source": [
    "Identify the 5 most profitable items by total purchase value:\n",
    "\n",
    "* Sort the above table by total purchase value in descending order\n",
    "\n",
    "\n",
    "* Optional: give the displayed data cleaner formatting\n",
    "\n",
    "\n",
    "* Display a preview of the data frame\n",
    "\n"
   ]
  },
  {
   "cell_type": "code",
   "execution_count": null,
   "metadata": {
    "scrolled": true
   },
   "outputs": [],
   "source": [
    "# Sort in descending order of 'Total Purchase Value' and obtain top 5 Profitable Items and adding currency format styling\n",
    "top_profitable_item = item_purchase_data.sort_values([\"Total Purchase Value\"], ascending = False).head().style.format({\"Item Price\":\"${:.2f}\", \"Total Purchase Value\":\"${:.2f}\"})\n",
    "top_profitable_item"
   ]
  },
  {
   "cell_type": "code",
   "execution_count": null,
   "metadata": {},
   "outputs": [],
   "source": []
  }
 ],
 "metadata": {
  "anaconda-cloud": {},
  "kernel_info": {
   "name": "python3"
  },
  "kernelspec": {
   "display_name": "Python 3",
   "language": "python",
   "name": "python3"
  },
  "language_info": {
   "codemirror_mode": {
    "name": "ipython",
    "version": 3
   },
   "file_extension": ".py",
   "mimetype": "text/x-python",
   "name": "python",
   "nbconvert_exporter": "python",
   "pygments_lexer": "ipython3",
   "version": "3.8.3"
  },
  "latex_envs": {
   "LaTeX_envs_menu_present": true,
   "autoclose": false,
   "autocomplete": true,
   "bibliofile": "biblio.bib",
   "cite_by": "apalike",
   "current_citInitial": 1,
   "eqLabelWithNumbers": true,
   "eqNumInitial": 1,
   "hotkeys": {
    "equation": "Ctrl-E",
    "itemize": "Ctrl-I"
   },
   "labels_anchors": false,
   "latex_user_defs": false,
   "report_style_numbering": false,
   "user_envs_cfg": false
  },
  "nteract": {
   "version": "0.2.0"
  }
 },
 "nbformat": 4,
 "nbformat_minor": 2
}
