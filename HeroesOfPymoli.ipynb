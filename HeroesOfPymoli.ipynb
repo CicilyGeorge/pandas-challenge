{
 "cells": [
  {
   "cell_type": "code",
   "execution_count": 96,
   "metadata": {
    "ExecuteTime": {
     "end_time": "2020-10-01T15:21:27.411633Z",
     "start_time": "2020-10-01T15:21:27.354658Z"
    },
    "scrolled": true
   },
   "outputs": [
    {
     "data": {
      "text/html": [
       "<style  type=\"text/css\" >\n",
       "    #T_c64dc0c7_03f9_11eb_9843_00e0459d5c33 th {\n",
       "          border: thin solid;\n",
       "          text-align: left;\n",
       "          background-color: #dfdfdf;\n",
       "    }    #T_c64dc0c7_03f9_11eb_9843_00e0459d5c33 td {\n",
       "          border: thin solid;\n",
       "          text-align: left;\n",
       "    }</style><table id=\"T_c64dc0c7_03f9_11eb_9843_00e0459d5c33\" ><thead>    <tr>        <th class=\"blank level0\" ></th>        <th class=\"col_heading level0 col0\" >Purchase ID</th>        <th class=\"col_heading level0 col1\" >SN</th>        <th class=\"col_heading level0 col2\" >Age</th>        <th class=\"col_heading level0 col3\" >Gender</th>        <th class=\"col_heading level0 col4\" >Item ID</th>        <th class=\"col_heading level0 col5\" >Item Name</th>        <th class=\"col_heading level0 col6\" >Price</th>    </tr></thead><tbody>\n",
       "                <tr>\n",
       "                        <th id=\"T_c64dc0c7_03f9_11eb_9843_00e0459d5c33level0_row0\" class=\"row_heading level0 row0\" >0</th>\n",
       "                        <td id=\"T_c64dc0c7_03f9_11eb_9843_00e0459d5c33row0_col0\" class=\"data row0 col0\" >0</td>\n",
       "                        <td id=\"T_c64dc0c7_03f9_11eb_9843_00e0459d5c33row0_col1\" class=\"data row0 col1\" >Lisim78</td>\n",
       "                        <td id=\"T_c64dc0c7_03f9_11eb_9843_00e0459d5c33row0_col2\" class=\"data row0 col2\" >20</td>\n",
       "                        <td id=\"T_c64dc0c7_03f9_11eb_9843_00e0459d5c33row0_col3\" class=\"data row0 col3\" >Male</td>\n",
       "                        <td id=\"T_c64dc0c7_03f9_11eb_9843_00e0459d5c33row0_col4\" class=\"data row0 col4\" >108</td>\n",
       "                        <td id=\"T_c64dc0c7_03f9_11eb_9843_00e0459d5c33row0_col5\" class=\"data row0 col5\" >Extraction, Quickblade Of Trembling Hands</td>\n",
       "                        <td id=\"T_c64dc0c7_03f9_11eb_9843_00e0459d5c33row0_col6\" class=\"data row0 col6\" >3.530000</td>\n",
       "            </tr>\n",
       "            <tr>\n",
       "                        <th id=\"T_c64dc0c7_03f9_11eb_9843_00e0459d5c33level0_row1\" class=\"row_heading level0 row1\" >1</th>\n",
       "                        <td id=\"T_c64dc0c7_03f9_11eb_9843_00e0459d5c33row1_col0\" class=\"data row1 col0\" >1</td>\n",
       "                        <td id=\"T_c64dc0c7_03f9_11eb_9843_00e0459d5c33row1_col1\" class=\"data row1 col1\" >Lisovynya38</td>\n",
       "                        <td id=\"T_c64dc0c7_03f9_11eb_9843_00e0459d5c33row1_col2\" class=\"data row1 col2\" >40</td>\n",
       "                        <td id=\"T_c64dc0c7_03f9_11eb_9843_00e0459d5c33row1_col3\" class=\"data row1 col3\" >Male</td>\n",
       "                        <td id=\"T_c64dc0c7_03f9_11eb_9843_00e0459d5c33row1_col4\" class=\"data row1 col4\" >143</td>\n",
       "                        <td id=\"T_c64dc0c7_03f9_11eb_9843_00e0459d5c33row1_col5\" class=\"data row1 col5\" >Frenzied Scimitar</td>\n",
       "                        <td id=\"T_c64dc0c7_03f9_11eb_9843_00e0459d5c33row1_col6\" class=\"data row1 col6\" >1.560000</td>\n",
       "            </tr>\n",
       "            <tr>\n",
       "                        <th id=\"T_c64dc0c7_03f9_11eb_9843_00e0459d5c33level0_row2\" class=\"row_heading level0 row2\" >2</th>\n",
       "                        <td id=\"T_c64dc0c7_03f9_11eb_9843_00e0459d5c33row2_col0\" class=\"data row2 col0\" >2</td>\n",
       "                        <td id=\"T_c64dc0c7_03f9_11eb_9843_00e0459d5c33row2_col1\" class=\"data row2 col1\" >Ithergue48</td>\n",
       "                        <td id=\"T_c64dc0c7_03f9_11eb_9843_00e0459d5c33row2_col2\" class=\"data row2 col2\" >24</td>\n",
       "                        <td id=\"T_c64dc0c7_03f9_11eb_9843_00e0459d5c33row2_col3\" class=\"data row2 col3\" >Male</td>\n",
       "                        <td id=\"T_c64dc0c7_03f9_11eb_9843_00e0459d5c33row2_col4\" class=\"data row2 col4\" >92</td>\n",
       "                        <td id=\"T_c64dc0c7_03f9_11eb_9843_00e0459d5c33row2_col5\" class=\"data row2 col5\" >Final Critic</td>\n",
       "                        <td id=\"T_c64dc0c7_03f9_11eb_9843_00e0459d5c33row2_col6\" class=\"data row2 col6\" >4.880000</td>\n",
       "            </tr>\n",
       "            <tr>\n",
       "                        <th id=\"T_c64dc0c7_03f9_11eb_9843_00e0459d5c33level0_row3\" class=\"row_heading level0 row3\" >3</th>\n",
       "                        <td id=\"T_c64dc0c7_03f9_11eb_9843_00e0459d5c33row3_col0\" class=\"data row3 col0\" >3</td>\n",
       "                        <td id=\"T_c64dc0c7_03f9_11eb_9843_00e0459d5c33row3_col1\" class=\"data row3 col1\" >Chamassasya86</td>\n",
       "                        <td id=\"T_c64dc0c7_03f9_11eb_9843_00e0459d5c33row3_col2\" class=\"data row3 col2\" >24</td>\n",
       "                        <td id=\"T_c64dc0c7_03f9_11eb_9843_00e0459d5c33row3_col3\" class=\"data row3 col3\" >Male</td>\n",
       "                        <td id=\"T_c64dc0c7_03f9_11eb_9843_00e0459d5c33row3_col4\" class=\"data row3 col4\" >100</td>\n",
       "                        <td id=\"T_c64dc0c7_03f9_11eb_9843_00e0459d5c33row3_col5\" class=\"data row3 col5\" >Blindscythe</td>\n",
       "                        <td id=\"T_c64dc0c7_03f9_11eb_9843_00e0459d5c33row3_col6\" class=\"data row3 col6\" >3.270000</td>\n",
       "            </tr>\n",
       "            <tr>\n",
       "                        <th id=\"T_c64dc0c7_03f9_11eb_9843_00e0459d5c33level0_row4\" class=\"row_heading level0 row4\" >4</th>\n",
       "                        <td id=\"T_c64dc0c7_03f9_11eb_9843_00e0459d5c33row4_col0\" class=\"data row4 col0\" >4</td>\n",
       "                        <td id=\"T_c64dc0c7_03f9_11eb_9843_00e0459d5c33row4_col1\" class=\"data row4 col1\" >Iskosia90</td>\n",
       "                        <td id=\"T_c64dc0c7_03f9_11eb_9843_00e0459d5c33row4_col2\" class=\"data row4 col2\" >23</td>\n",
       "                        <td id=\"T_c64dc0c7_03f9_11eb_9843_00e0459d5c33row4_col3\" class=\"data row4 col3\" >Male</td>\n",
       "                        <td id=\"T_c64dc0c7_03f9_11eb_9843_00e0459d5c33row4_col4\" class=\"data row4 col4\" >131</td>\n",
       "                        <td id=\"T_c64dc0c7_03f9_11eb_9843_00e0459d5c33row4_col5\" class=\"data row4 col5\" >Fury</td>\n",
       "                        <td id=\"T_c64dc0c7_03f9_11eb_9843_00e0459d5c33row4_col6\" class=\"data row4 col6\" >1.440000</td>\n",
       "            </tr>\n",
       "    </tbody></table>"
      ],
      "text/plain": [
       "<pandas.io.formats.style.Styler at 0x1db5eed8df0>"
      ]
     },
     "execution_count": 96,
     "metadata": {},
     "output_type": "execute_result"
    }
   ],
   "source": [
    "# Dependencies and Setup\n",
    "import pandas as pd\n",
    "\n",
    "# File to Load (Remember to Change These)\n",
    "file_to_load = \"Resources/purchase_data.csv\"\n",
    "\n",
    "# Read Purchasing File and store into Pandas data frame\n",
    "purchase_data = pd.read_csv(file_to_load)\n",
    "\n",
    "# Set CSS properties for th elements in dataframe\n",
    "th_props = [('border', 'thin solid'),\n",
    "            ('text-align', 'left'),\n",
    "            ('background-color', '#dfdfdf')]\n",
    "\n",
    "# Set CSS properties for td elements in dataframe\n",
    "td_props = [('border', 'thin solid'),\n",
    "            ('text-align', 'left')]\n",
    "\n",
    "# Set table styles\n",
    "styles = [dict(selector=\"th\", props=th_props),\n",
    "          dict(selector=\"td\", props=td_props)]\n",
    "\n",
    "purchase_data.head().style.set_table_styles(styles)"
   ]
  },
  {
   "cell_type": "markdown",
   "metadata": {},
   "source": [
    "## Player Count"
   ]
  },
  {
   "cell_type": "markdown",
   "metadata": {},
   "source": [
    "* Display the total number of players\n"
   ]
  },
  {
   "cell_type": "code",
   "execution_count": 97,
   "metadata": {
    "ExecuteTime": {
     "end_time": "2020-10-01T15:21:27.539022Z",
     "start_time": "2020-10-01T15:21:27.412623Z"
    }
   },
   "outputs": [
    {
     "data": {
      "text/html": [
       "<style  type=\"text/css\" >\n",
       "    #T_c666adf5_03f9_11eb_ba02_00e0459d5c33 th {\n",
       "          border: thin solid;\n",
       "          text-align: left;\n",
       "          background-color: #dfdfdf;\n",
       "    }    #T_c666adf5_03f9_11eb_ba02_00e0459d5c33 td {\n",
       "          border: thin solid;\n",
       "          text-align: left;\n",
       "    }</style><table id=\"T_c666adf5_03f9_11eb_ba02_00e0459d5c33\" ><thead>    <tr>        <th class=\"blank level0\" ></th>        <th class=\"col_heading level0 col0\" >Total players</th>    </tr></thead><tbody>\n",
       "                <tr>\n",
       "                        <th id=\"T_c666adf5_03f9_11eb_ba02_00e0459d5c33level0_row0\" class=\"row_heading level0 row0\" >0</th>\n",
       "                        <td id=\"T_c666adf5_03f9_11eb_ba02_00e0459d5c33row0_col0\" class=\"data row0 col0\" >576</td>\n",
       "            </tr>\n",
       "    </tbody></table>"
      ],
      "text/plain": [
       "<pandas.io.formats.style.Styler at 0x1db5ef0f640>"
      ]
     },
     "execution_count": 97,
     "metadata": {},
     "output_type": "execute_result"
    }
   ],
   "source": [
    "# calculate total players count \n",
    "total_players = purchase_data['SN'].nunique()\n",
    "\n",
    "# create a data frame with total_players count \n",
    "player_count_df = pd.DataFrame({\"Total players\":total_players},index = [0])\n",
    "\n",
    "player_count_df.style.set_table_styles(styles)"
   ]
  },
  {
   "cell_type": "markdown",
   "metadata": {},
   "source": [
    "## Purchasing Analysis (Total)"
   ]
  },
  {
   "cell_type": "markdown",
   "metadata": {},
   "source": [
    "* Run basic calculations to obtain number of unique items, average price, etc.\n",
    "\n",
    "\n",
    "* Create a summary data frame to hold the results\n",
    "\n",
    "\n",
    "* Optional: give the displayed data cleaner formatting\n",
    "\n",
    "\n",
    "* Display the summary data frame\n"
   ]
  },
  {
   "cell_type": "code",
   "execution_count": 98,
   "metadata": {
    "ExecuteTime": {
     "end_time": "2020-10-01T15:21:27.616879Z",
     "start_time": "2020-10-01T15:21:27.541013Z"
    },
    "scrolled": true
   },
   "outputs": [
    {
     "data": {
      "text/html": [
       "<style  type=\"text/css\" >\n",
       "    #T_c6735334_03f9_11eb_a637_00e0459d5c33 th {\n",
       "          border: thin solid;\n",
       "          text-align: left;\n",
       "          background-color: #dfdfdf;\n",
       "    }    #T_c6735334_03f9_11eb_a637_00e0459d5c33 td {\n",
       "          border: thin solid;\n",
       "          text-align: left;\n",
       "    }</style><table id=\"T_c6735334_03f9_11eb_a637_00e0459d5c33\" ><thead>    <tr>        <th class=\"blank level0\" ></th>        <th class=\"col_heading level0 col0\" >Number of Unique Items</th>        <th class=\"col_heading level0 col1\" >Average Price</th>        <th class=\"col_heading level0 col2\" >Number of Purchases</th>        <th class=\"col_heading level0 col3\" >Total Revenue</th>    </tr></thead><tbody>\n",
       "                <tr>\n",
       "                        <th id=\"T_c6735334_03f9_11eb_a637_00e0459d5c33level0_row0\" class=\"row_heading level0 row0\" >0</th>\n",
       "                        <td id=\"T_c6735334_03f9_11eb_a637_00e0459d5c33row0_col0\" class=\"data row0 col0\" >179</td>\n",
       "                        <td id=\"T_c6735334_03f9_11eb_a637_00e0459d5c33row0_col1\" class=\"data row0 col1\" >$3.05</td>\n",
       "                        <td id=\"T_c6735334_03f9_11eb_a637_00e0459d5c33row0_col2\" class=\"data row0 col2\" >780</td>\n",
       "                        <td id=\"T_c6735334_03f9_11eb_a637_00e0459d5c33row0_col3\" class=\"data row0 col3\" >$2379.77</td>\n",
       "            </tr>\n",
       "    </tbody></table>"
      ],
      "text/plain": [
       "<pandas.io.formats.style.Styler at 0x1db5ef0f520>"
      ]
     },
     "execution_count": 98,
     "metadata": {},
     "output_type": "execute_result"
    }
   ],
   "source": [
    "# Calculating the Number of unique Items\n",
    "unique_items = purchase_data[\"Item ID\"].nunique()\n",
    "\n",
    "# Calculating the Average Price\n",
    "avg_price = purchase_data[\"Price\"].mean()\n",
    "\n",
    "# Calculating the Number of Purchases\n",
    "no_of_purchases = purchase_data[\"Purchase ID\"].count()\n",
    "\n",
    "# Calculating and currency formatting the Total Price\n",
    "total_price = purchase_data[\"Price\"].sum()\n",
    "\n",
    "# creating a summary dataframe\n",
    "summary_data = pd.DataFrame({\"Number of Unique Items\":unique_items,\n",
    "                             \"Average Price\":avg_price,\n",
    "                             \"Number of Purchases\":no_of_purchases,\n",
    "                             \"Total Revenue\":total_price}, \n",
    "                            index=[0])\n",
    "\n",
    "# rounding and adding currency formating to Average Price columns\n",
    "summary_data['Average Price'] = summary_data['Average Price'].map(\"${:.2f}\".format)\n",
    "summary_data['Total Revenue'] = summary_data['Total Revenue'].map(\"${:.2f}\".format)\n",
    "\n",
    "summary_data.style.set_table_styles(styles)"
   ]
  },
  {
   "cell_type": "markdown",
   "metadata": {},
   "source": [
    "## Gender Demographics"
   ]
  },
  {
   "cell_type": "markdown",
   "metadata": {},
   "source": [
    "* Percentage and Count of Male Players\n",
    "\n",
    "\n",
    "* Percentage and Count of Female Players\n",
    "\n",
    "\n",
    "* Percentage and Count of Other / Non-Disclosed\n",
    "\n",
    "\n"
   ]
  },
  {
   "cell_type": "code",
   "execution_count": 99,
   "metadata": {
    "ExecuteTime": {
     "end_time": "2020-10-01T15:21:27.710120Z",
     "start_time": "2020-10-01T15:21:27.618879Z"
    }
   },
   "outputs": [
    {
     "data": {
      "text/html": [
       "<style  type=\"text/css\" >\n",
       "    #T_c6802e02_03f9_11eb_9c0c_00e0459d5c33 th {\n",
       "          border: thin solid;\n",
       "          text-align: left;\n",
       "          background-color: #dfdfdf;\n",
       "    }    #T_c6802e02_03f9_11eb_9c0c_00e0459d5c33 td {\n",
       "          border: thin solid;\n",
       "          text-align: left;\n",
       "    }</style><table id=\"T_c6802e02_03f9_11eb_9c0c_00e0459d5c33\" ><thead>    <tr>        <th class=\"blank level0\" ></th>        <th class=\"col_heading level0 col0\" >Total Count</th>        <th class=\"col_heading level0 col1\" >Percentage of Players</th>    </tr></thead><tbody>\n",
       "                <tr>\n",
       "                        <th id=\"T_c6802e02_03f9_11eb_9c0c_00e0459d5c33level0_row0\" class=\"row_heading level0 row0\" >Male</th>\n",
       "                        <td id=\"T_c6802e02_03f9_11eb_9c0c_00e0459d5c33row0_col0\" class=\"data row0 col0\" >484</td>\n",
       "                        <td id=\"T_c6802e02_03f9_11eb_9c0c_00e0459d5c33row0_col1\" class=\"data row0 col1\" >84.03%</td>\n",
       "            </tr>\n",
       "            <tr>\n",
       "                        <th id=\"T_c6802e02_03f9_11eb_9c0c_00e0459d5c33level0_row1\" class=\"row_heading level0 row1\" >Female</th>\n",
       "                        <td id=\"T_c6802e02_03f9_11eb_9c0c_00e0459d5c33row1_col0\" class=\"data row1 col0\" >81</td>\n",
       "                        <td id=\"T_c6802e02_03f9_11eb_9c0c_00e0459d5c33row1_col1\" class=\"data row1 col1\" >14.06%</td>\n",
       "            </tr>\n",
       "            <tr>\n",
       "                        <th id=\"T_c6802e02_03f9_11eb_9c0c_00e0459d5c33level0_row2\" class=\"row_heading level0 row2\" >Other / Non-Disclosed</th>\n",
       "                        <td id=\"T_c6802e02_03f9_11eb_9c0c_00e0459d5c33row2_col0\" class=\"data row2 col0\" >11</td>\n",
       "                        <td id=\"T_c6802e02_03f9_11eb_9c0c_00e0459d5c33row2_col1\" class=\"data row2 col1\" >1.91%</td>\n",
       "            </tr>\n",
       "    </tbody></table>"
      ],
      "text/plain": [
       "<pandas.io.formats.style.Styler at 0x1db5dd88b20>"
      ]
     },
     "execution_count": 99,
     "metadata": {},
     "output_type": "execute_result"
    }
   ],
   "source": [
    "# calculating Number of players in each Gender\n",
    "gender_count = purchase_data.groupby(\"Gender\")[\"SN\"].nunique()\n",
    "\n",
    "# calculating Percentage of Players in each Gender\n",
    "gender_percent = gender_count / total_players * 100\n",
    "\n",
    "\n",
    "# creating a new data frame with Total Players and Percentage of Players in each Gender\n",
    "gender_data  = pd.DataFrame({\"Total Count\":gender_count, \n",
    "                             \"Percentage of Players\": gender_percent})\n",
    "\n",
    "# formating the display table\n",
    "gender_data_styled = gender_data.copy()\n",
    "gender_data_styled.index.name = None\n",
    "\n",
    "# sorting and adding percentage format styling to display\n",
    "gender_data_styled = gender_data_styled.sort_values([\"Total Count\"], ascending = False) \\\n",
    "                     .style.format({\"Percentage of Players\":\"{:.2f}%\"}) \\\n",
    "                     .set_table_styles(styles) \n",
    "\n",
    "gender_data_styled"
   ]
  },
  {
   "cell_type": "markdown",
   "metadata": {},
   "source": [
    "\n",
    "## Purchasing Analysis (Gender)"
   ]
  },
  {
   "cell_type": "markdown",
   "metadata": {},
   "source": [
    "* Run basic calculations to obtain purchase count, avg. purchase price, avg. purchase total per person etc. by gender\n",
    "\n",
    "\n",
    "\n",
    "\n",
    "* Create a summary data frame to hold the results\n",
    "\n",
    "\n",
    "* Optional: give the displayed data cleaner formatting\n",
    "\n",
    "\n",
    "* Display the summary data frame"
   ]
  },
  {
   "cell_type": "code",
   "execution_count": 100,
   "metadata": {
    "ExecuteTime": {
     "end_time": "2020-10-01T15:21:27.788089Z",
     "start_time": "2020-10-01T15:21:27.712110Z"
    }
   },
   "outputs": [
    {
     "data": {
      "text/html": [
       "<style  type=\"text/css\" >\n",
       "    #T_c68bebfd_03f9_11eb_a8ac_00e0459d5c33 th {\n",
       "          border: thin solid;\n",
       "          text-align: left;\n",
       "          background-color: #dfdfdf;\n",
       "    }    #T_c68bebfd_03f9_11eb_a8ac_00e0459d5c33 td {\n",
       "          border: thin solid;\n",
       "          text-align: left;\n",
       "    }</style><table id=\"T_c68bebfd_03f9_11eb_a8ac_00e0459d5c33\" ><thead>    <tr>        <th class=\"blank level0\" ></th>        <th class=\"col_heading level0 col0\" >Purchase Count</th>        <th class=\"col_heading level0 col1\" >Average Purchase Price</th>        <th class=\"col_heading level0 col2\" >Total Purchase Value</th>        <th class=\"col_heading level0 col3\" >Avg Total Purchase per Person</th>    </tr>    <tr>        <th class=\"index_name level0\" >Gender</th>        <th class=\"blank\" ></th>        <th class=\"blank\" ></th>        <th class=\"blank\" ></th>        <th class=\"blank\" ></th>    </tr></thead><tbody>\n",
       "                <tr>\n",
       "                        <th id=\"T_c68bebfd_03f9_11eb_a8ac_00e0459d5c33level0_row0\" class=\"row_heading level0 row0\" >Female</th>\n",
       "                        <td id=\"T_c68bebfd_03f9_11eb_a8ac_00e0459d5c33row0_col0\" class=\"data row0 col0\" >113</td>\n",
       "                        <td id=\"T_c68bebfd_03f9_11eb_a8ac_00e0459d5c33row0_col1\" class=\"data row0 col1\" >$3.20</td>\n",
       "                        <td id=\"T_c68bebfd_03f9_11eb_a8ac_00e0459d5c33row0_col2\" class=\"data row0 col2\" >$361.94</td>\n",
       "                        <td id=\"T_c68bebfd_03f9_11eb_a8ac_00e0459d5c33row0_col3\" class=\"data row0 col3\" >$4.47</td>\n",
       "            </tr>\n",
       "            <tr>\n",
       "                        <th id=\"T_c68bebfd_03f9_11eb_a8ac_00e0459d5c33level0_row1\" class=\"row_heading level0 row1\" >Male</th>\n",
       "                        <td id=\"T_c68bebfd_03f9_11eb_a8ac_00e0459d5c33row1_col0\" class=\"data row1 col0\" >652</td>\n",
       "                        <td id=\"T_c68bebfd_03f9_11eb_a8ac_00e0459d5c33row1_col1\" class=\"data row1 col1\" >$3.02</td>\n",
       "                        <td id=\"T_c68bebfd_03f9_11eb_a8ac_00e0459d5c33row1_col2\" class=\"data row1 col2\" >$1967.64</td>\n",
       "                        <td id=\"T_c68bebfd_03f9_11eb_a8ac_00e0459d5c33row1_col3\" class=\"data row1 col3\" >$4.07</td>\n",
       "            </tr>\n",
       "            <tr>\n",
       "                        <th id=\"T_c68bebfd_03f9_11eb_a8ac_00e0459d5c33level0_row2\" class=\"row_heading level0 row2\" >Other / Non-Disclosed</th>\n",
       "                        <td id=\"T_c68bebfd_03f9_11eb_a8ac_00e0459d5c33row2_col0\" class=\"data row2 col0\" >15</td>\n",
       "                        <td id=\"T_c68bebfd_03f9_11eb_a8ac_00e0459d5c33row2_col1\" class=\"data row2 col1\" >$3.35</td>\n",
       "                        <td id=\"T_c68bebfd_03f9_11eb_a8ac_00e0459d5c33row2_col2\" class=\"data row2 col2\" >$50.19</td>\n",
       "                        <td id=\"T_c68bebfd_03f9_11eb_a8ac_00e0459d5c33row2_col3\" class=\"data row2 col3\" >$4.56</td>\n",
       "            </tr>\n",
       "    </tbody></table>"
      ],
      "text/plain": [
       "<pandas.io.formats.style.Styler at 0x1db5dd90280>"
      ]
     },
     "execution_count": 100,
     "metadata": {},
     "output_type": "execute_result"
    }
   ],
   "source": [
    "gender_group = purchase_data.groupby(\"Gender\")\n",
    "\n",
    "# Using aggregate function to run basic calculations on Price group by gender\n",
    "gender_purchase_data = gender_group[\"Price\"].agg(['count','mean','sum'])\n",
    "\n",
    "# Adding another coulumn to the Data Frame for Avg Purchase per person\n",
    "gender_purchase_data[\"Avg Total Purchase per Person\"] = gender_group[\"Price\"].sum() / gender_count\n",
    "\n",
    "# Renaming column headers \n",
    "gender_purchase_data = gender_purchase_data.rename(columns={\"count\":\"Purchase Count\", \n",
    "                                                            \"mean\":\"Average Purchase Price\", \n",
    "                                                            \"sum\":\"Total Purchase Value\"})\n",
    "\n",
    "# Adding currency format styling to display\n",
    "gender_purchase_data.style.format({\"Average Purchase Price\": \"${:.2f}\", \n",
    "                                   \"Total Purchase Value\": \"${:.2f}\", \n",
    "                                   \"Avg Total Purchase per Person\": \"${:.2f}\"}) \\\n",
    "                          .set_table_styles(styles) "
   ]
  },
  {
   "cell_type": "markdown",
   "metadata": {},
   "source": [
    "## Age Demographics"
   ]
  },
  {
   "cell_type": "markdown",
   "metadata": {},
   "source": [
    "* Establish bins for ages\n",
    "\n",
    "\n",
    "* Categorize the existing players using the age bins.\n",
    "\n",
    "\n",
    "* Calculate the numbers and percentages by age group\n",
    "\n",
    "\n",
    "* Create a summary data frame to hold the results\n",
    "\n",
    "\n",
    "* Optional: round the percentage column to two decimal points\n",
    "\n",
    "\n",
    "* Display Age Demographics Table\n"
   ]
  },
  {
   "cell_type": "code",
   "execution_count": 101,
   "metadata": {
    "ExecuteTime": {
     "end_time": "2020-10-01T15:21:27.866348Z",
     "start_time": "2020-10-01T15:21:27.790070Z"
    }
   },
   "outputs": [
    {
     "data": {
      "text/html": [
       "<style  type=\"text/css\" >\n",
       "    #T_c698a11f_03f9_11eb_ad68_00e0459d5c33 th {\n",
       "          border: thin solid;\n",
       "          text-align: left;\n",
       "          background-color: #dfdfdf;\n",
       "    }    #T_c698a11f_03f9_11eb_ad68_00e0459d5c33 td {\n",
       "          border: thin solid;\n",
       "          text-align: left;\n",
       "    }</style><table id=\"T_c698a11f_03f9_11eb_ad68_00e0459d5c33\" ><thead>    <tr>        <th class=\"blank level0\" ></th>        <th class=\"col_heading level0 col0\" >Total Count</th>        <th class=\"col_heading level0 col1\" >Percentage of Players</th>    </tr></thead><tbody>\n",
       "                <tr>\n",
       "                        <th id=\"T_c698a11f_03f9_11eb_ad68_00e0459d5c33level0_row0\" class=\"row_heading level0 row0\" ><10</th>\n",
       "                        <td id=\"T_c698a11f_03f9_11eb_ad68_00e0459d5c33row0_col0\" class=\"data row0 col0\" >17</td>\n",
       "                        <td id=\"T_c698a11f_03f9_11eb_ad68_00e0459d5c33row0_col1\" class=\"data row0 col1\" >2.95%</td>\n",
       "            </tr>\n",
       "            <tr>\n",
       "                        <th id=\"T_c698a11f_03f9_11eb_ad68_00e0459d5c33level0_row1\" class=\"row_heading level0 row1\" >10-14</th>\n",
       "                        <td id=\"T_c698a11f_03f9_11eb_ad68_00e0459d5c33row1_col0\" class=\"data row1 col0\" >22</td>\n",
       "                        <td id=\"T_c698a11f_03f9_11eb_ad68_00e0459d5c33row1_col1\" class=\"data row1 col1\" >3.82%</td>\n",
       "            </tr>\n",
       "            <tr>\n",
       "                        <th id=\"T_c698a11f_03f9_11eb_ad68_00e0459d5c33level0_row2\" class=\"row_heading level0 row2\" >15-19</th>\n",
       "                        <td id=\"T_c698a11f_03f9_11eb_ad68_00e0459d5c33row2_col0\" class=\"data row2 col0\" >107</td>\n",
       "                        <td id=\"T_c698a11f_03f9_11eb_ad68_00e0459d5c33row2_col1\" class=\"data row2 col1\" >18.58%</td>\n",
       "            </tr>\n",
       "            <tr>\n",
       "                        <th id=\"T_c698a11f_03f9_11eb_ad68_00e0459d5c33level0_row3\" class=\"row_heading level0 row3\" >20-24</th>\n",
       "                        <td id=\"T_c698a11f_03f9_11eb_ad68_00e0459d5c33row3_col0\" class=\"data row3 col0\" >258</td>\n",
       "                        <td id=\"T_c698a11f_03f9_11eb_ad68_00e0459d5c33row3_col1\" class=\"data row3 col1\" >44.79%</td>\n",
       "            </tr>\n",
       "            <tr>\n",
       "                        <th id=\"T_c698a11f_03f9_11eb_ad68_00e0459d5c33level0_row4\" class=\"row_heading level0 row4\" >25-29</th>\n",
       "                        <td id=\"T_c698a11f_03f9_11eb_ad68_00e0459d5c33row4_col0\" class=\"data row4 col0\" >77</td>\n",
       "                        <td id=\"T_c698a11f_03f9_11eb_ad68_00e0459d5c33row4_col1\" class=\"data row4 col1\" >13.37%</td>\n",
       "            </tr>\n",
       "            <tr>\n",
       "                        <th id=\"T_c698a11f_03f9_11eb_ad68_00e0459d5c33level0_row5\" class=\"row_heading level0 row5\" >30-34</th>\n",
       "                        <td id=\"T_c698a11f_03f9_11eb_ad68_00e0459d5c33row5_col0\" class=\"data row5 col0\" >52</td>\n",
       "                        <td id=\"T_c698a11f_03f9_11eb_ad68_00e0459d5c33row5_col1\" class=\"data row5 col1\" >9.03%</td>\n",
       "            </tr>\n",
       "            <tr>\n",
       "                        <th id=\"T_c698a11f_03f9_11eb_ad68_00e0459d5c33level0_row6\" class=\"row_heading level0 row6\" >35-39</th>\n",
       "                        <td id=\"T_c698a11f_03f9_11eb_ad68_00e0459d5c33row6_col0\" class=\"data row6 col0\" >31</td>\n",
       "                        <td id=\"T_c698a11f_03f9_11eb_ad68_00e0459d5c33row6_col1\" class=\"data row6 col1\" >5.38%</td>\n",
       "            </tr>\n",
       "            <tr>\n",
       "                        <th id=\"T_c698a11f_03f9_11eb_ad68_00e0459d5c33level0_row7\" class=\"row_heading level0 row7\" >40+</th>\n",
       "                        <td id=\"T_c698a11f_03f9_11eb_ad68_00e0459d5c33row7_col0\" class=\"data row7 col0\" >12</td>\n",
       "                        <td id=\"T_c698a11f_03f9_11eb_ad68_00e0459d5c33row7_col1\" class=\"data row7 col1\" >2.08%</td>\n",
       "            </tr>\n",
       "    </tbody></table>"
      ],
      "text/plain": [
       "<pandas.io.formats.style.Styler at 0x1db5eee6d90>"
      ]
     },
     "execution_count": 101,
     "metadata": {},
     "output_type": "execute_result"
    }
   ],
   "source": [
    "# Calculating Maximum of Age in the data set\n",
    "max_age = purchase_data[\"Age\"].max()\n",
    "\n",
    "# Create the bins in which Data will be held\n",
    "bins = [0, 9, 14, 19, 24, 29, 34, 39, max_age]\n",
    "\n",
    "# Create the names for the five bins\n",
    "group_names = [\"<10\", \"10-14\", \"15-19\", \"20-24\", \"25-29\", \"30-34\", \"35-39\", \"40+\"]\n",
    "\n",
    "# Categorize the existing players using the age bins.\n",
    "purchase_data[\"Age Ranges\"] = pd.cut(purchase_data[\"Age\"], bins, labels=group_names, include_lowest=True)\n",
    "age_group = purchase_data.groupby([\"Age Ranges\"])\n",
    "\n",
    "# Calculating Number of Players and Percentage of Players in each Age Group\n",
    "age_count = age_group[\"SN\"].nunique()\n",
    "player_percent = age_count / total_players * 100\n",
    "\n",
    "# creating a new data frame with Total Players and Percentage of Players in each Age Group\n",
    "age_data = pd.DataFrame({\"Total Count\": age_count,\n",
    "                          \"Percentage of Players\": player_percent})\n",
    "\n",
    "# formating the display table\n",
    "age_data_styled = age_data.copy()\n",
    "age_data_styled.index.name = None\n",
    "\n",
    "age_data_styled = age_data_styled.style.format({\"Percentage of Players\": \"{:.2f}%\"}) \\\n",
    "                                       .set_table_styles(styles)\n",
    "\n",
    "age_data_styled"
   ]
  },
  {
   "cell_type": "markdown",
   "metadata": {},
   "source": [
    "## Purchasing Analysis (Age)"
   ]
  },
  {
   "cell_type": "markdown",
   "metadata": {},
   "source": [
    "* Bin the purchase_data data frame by age\n",
    "\n",
    "\n",
    "* Run basic calculations to obtain purchase count, avg. purchase price, avg. purchase total per person etc. in the table below\n",
    "\n",
    "\n",
    "* Create a summary data frame to hold the results\n",
    "\n",
    "\n",
    "* Optional: give the displayed data cleaner formatting\n",
    "\n",
    "\n",
    "* Display the summary data frame"
   ]
  },
  {
   "cell_type": "code",
   "execution_count": 102,
   "metadata": {
    "ExecuteTime": {
     "end_time": "2020-10-01T15:21:27.944320Z",
     "start_time": "2020-10-01T15:21:27.868347Z"
    }
   },
   "outputs": [
    {
     "data": {
      "text/html": [
       "<style  type=\"text/css\" >\n",
       "    #T_c6a41042_03f9_11eb_a820_00e0459d5c33 th {\n",
       "          border: thin solid;\n",
       "          text-align: left;\n",
       "          background-color: #dfdfdf;\n",
       "    }    #T_c6a41042_03f9_11eb_a820_00e0459d5c33 td {\n",
       "          border: thin solid;\n",
       "          text-align: left;\n",
       "    }</style><table id=\"T_c6a41042_03f9_11eb_a820_00e0459d5c33\" ><thead>    <tr>        <th class=\"blank level0\" ></th>        <th class=\"col_heading level0 col0\" >Purchase Count</th>        <th class=\"col_heading level0 col1\" >Average Purchase Price</th>        <th class=\"col_heading level0 col2\" >Total Purchase Value</th>        <th class=\"col_heading level0 col3\" >Avg Total Purchase per Person</th>    </tr>    <tr>        <th class=\"index_name level0\" >Age Ranges</th>        <th class=\"blank\" ></th>        <th class=\"blank\" ></th>        <th class=\"blank\" ></th>        <th class=\"blank\" ></th>    </tr></thead><tbody>\n",
       "                <tr>\n",
       "                        <th id=\"T_c6a41042_03f9_11eb_a820_00e0459d5c33level0_row0\" class=\"row_heading level0 row0\" ><10</th>\n",
       "                        <td id=\"T_c6a41042_03f9_11eb_a820_00e0459d5c33row0_col0\" class=\"data row0 col0\" >23</td>\n",
       "                        <td id=\"T_c6a41042_03f9_11eb_a820_00e0459d5c33row0_col1\" class=\"data row0 col1\" >$3.35</td>\n",
       "                        <td id=\"T_c6a41042_03f9_11eb_a820_00e0459d5c33row0_col2\" class=\"data row0 col2\" >$77.13</td>\n",
       "                        <td id=\"T_c6a41042_03f9_11eb_a820_00e0459d5c33row0_col3\" class=\"data row0 col3\" >$4.54</td>\n",
       "            </tr>\n",
       "            <tr>\n",
       "                        <th id=\"T_c6a41042_03f9_11eb_a820_00e0459d5c33level0_row1\" class=\"row_heading level0 row1\" >10-14</th>\n",
       "                        <td id=\"T_c6a41042_03f9_11eb_a820_00e0459d5c33row1_col0\" class=\"data row1 col0\" >28</td>\n",
       "                        <td id=\"T_c6a41042_03f9_11eb_a820_00e0459d5c33row1_col1\" class=\"data row1 col1\" >$2.96</td>\n",
       "                        <td id=\"T_c6a41042_03f9_11eb_a820_00e0459d5c33row1_col2\" class=\"data row1 col2\" >$82.78</td>\n",
       "                        <td id=\"T_c6a41042_03f9_11eb_a820_00e0459d5c33row1_col3\" class=\"data row1 col3\" >$3.76</td>\n",
       "            </tr>\n",
       "            <tr>\n",
       "                        <th id=\"T_c6a41042_03f9_11eb_a820_00e0459d5c33level0_row2\" class=\"row_heading level0 row2\" >15-19</th>\n",
       "                        <td id=\"T_c6a41042_03f9_11eb_a820_00e0459d5c33row2_col0\" class=\"data row2 col0\" >136</td>\n",
       "                        <td id=\"T_c6a41042_03f9_11eb_a820_00e0459d5c33row2_col1\" class=\"data row2 col1\" >$3.04</td>\n",
       "                        <td id=\"T_c6a41042_03f9_11eb_a820_00e0459d5c33row2_col2\" class=\"data row2 col2\" >$412.89</td>\n",
       "                        <td id=\"T_c6a41042_03f9_11eb_a820_00e0459d5c33row2_col3\" class=\"data row2 col3\" >$3.86</td>\n",
       "            </tr>\n",
       "            <tr>\n",
       "                        <th id=\"T_c6a41042_03f9_11eb_a820_00e0459d5c33level0_row3\" class=\"row_heading level0 row3\" >20-24</th>\n",
       "                        <td id=\"T_c6a41042_03f9_11eb_a820_00e0459d5c33row3_col0\" class=\"data row3 col0\" >365</td>\n",
       "                        <td id=\"T_c6a41042_03f9_11eb_a820_00e0459d5c33row3_col1\" class=\"data row3 col1\" >$3.05</td>\n",
       "                        <td id=\"T_c6a41042_03f9_11eb_a820_00e0459d5c33row3_col2\" class=\"data row3 col2\" >$1114.06</td>\n",
       "                        <td id=\"T_c6a41042_03f9_11eb_a820_00e0459d5c33row3_col3\" class=\"data row3 col3\" >$4.32</td>\n",
       "            </tr>\n",
       "            <tr>\n",
       "                        <th id=\"T_c6a41042_03f9_11eb_a820_00e0459d5c33level0_row4\" class=\"row_heading level0 row4\" >25-29</th>\n",
       "                        <td id=\"T_c6a41042_03f9_11eb_a820_00e0459d5c33row4_col0\" class=\"data row4 col0\" >101</td>\n",
       "                        <td id=\"T_c6a41042_03f9_11eb_a820_00e0459d5c33row4_col1\" class=\"data row4 col1\" >$2.90</td>\n",
       "                        <td id=\"T_c6a41042_03f9_11eb_a820_00e0459d5c33row4_col2\" class=\"data row4 col2\" >$293.00</td>\n",
       "                        <td id=\"T_c6a41042_03f9_11eb_a820_00e0459d5c33row4_col3\" class=\"data row4 col3\" >$3.81</td>\n",
       "            </tr>\n",
       "            <tr>\n",
       "                        <th id=\"T_c6a41042_03f9_11eb_a820_00e0459d5c33level0_row5\" class=\"row_heading level0 row5\" >30-34</th>\n",
       "                        <td id=\"T_c6a41042_03f9_11eb_a820_00e0459d5c33row5_col0\" class=\"data row5 col0\" >73</td>\n",
       "                        <td id=\"T_c6a41042_03f9_11eb_a820_00e0459d5c33row5_col1\" class=\"data row5 col1\" >$2.93</td>\n",
       "                        <td id=\"T_c6a41042_03f9_11eb_a820_00e0459d5c33row5_col2\" class=\"data row5 col2\" >$214.00</td>\n",
       "                        <td id=\"T_c6a41042_03f9_11eb_a820_00e0459d5c33row5_col3\" class=\"data row5 col3\" >$4.12</td>\n",
       "            </tr>\n",
       "            <tr>\n",
       "                        <th id=\"T_c6a41042_03f9_11eb_a820_00e0459d5c33level0_row6\" class=\"row_heading level0 row6\" >35-39</th>\n",
       "                        <td id=\"T_c6a41042_03f9_11eb_a820_00e0459d5c33row6_col0\" class=\"data row6 col0\" >41</td>\n",
       "                        <td id=\"T_c6a41042_03f9_11eb_a820_00e0459d5c33row6_col1\" class=\"data row6 col1\" >$3.60</td>\n",
       "                        <td id=\"T_c6a41042_03f9_11eb_a820_00e0459d5c33row6_col2\" class=\"data row6 col2\" >$147.67</td>\n",
       "                        <td id=\"T_c6a41042_03f9_11eb_a820_00e0459d5c33row6_col3\" class=\"data row6 col3\" >$4.76</td>\n",
       "            </tr>\n",
       "            <tr>\n",
       "                        <th id=\"T_c6a41042_03f9_11eb_a820_00e0459d5c33level0_row7\" class=\"row_heading level0 row7\" >40+</th>\n",
       "                        <td id=\"T_c6a41042_03f9_11eb_a820_00e0459d5c33row7_col0\" class=\"data row7 col0\" >13</td>\n",
       "                        <td id=\"T_c6a41042_03f9_11eb_a820_00e0459d5c33row7_col1\" class=\"data row7 col1\" >$2.94</td>\n",
       "                        <td id=\"T_c6a41042_03f9_11eb_a820_00e0459d5c33row7_col2\" class=\"data row7 col2\" >$38.24</td>\n",
       "                        <td id=\"T_c6a41042_03f9_11eb_a820_00e0459d5c33row7_col3\" class=\"data row7 col3\" >$3.19</td>\n",
       "            </tr>\n",
       "    </tbody></table>"
      ],
      "text/plain": [
       "<pandas.io.formats.style.Styler at 0x1db5ef45d90>"
      ]
     },
     "execution_count": 102,
     "metadata": {},
     "output_type": "execute_result"
    }
   ],
   "source": [
    "# Using aggregate function to run basic calculations on Price group by Age\n",
    "age_purchase_data = age_group[\"Price\"].agg([\"count\",\"mean\",\"sum\"])\n",
    "\n",
    "# Adding another coulumn to the Data Frame for Avg Purchase per person\n",
    "age_purchase_data[\"Avg Total Purchase per Person\"] = age_group[\"Price\"].sum() / age_count\n",
    "\n",
    "# Renaming column headers \n",
    "age_purchase_data = age_purchase_data.rename(columns={\"count\": \"Purchase Count\",\n",
    "                                                      \"mean\": \"Average Purchase Price\",\n",
    "                                                      \"sum\": \"Total Purchase Value\"})\n",
    "# Adding currency format styling to display\n",
    "age_purchase_data.style.format({\"Average Purchase Price\": \"${:.2f}\", \n",
    "                                \"Total Purchase Value\": \"${:.2f}\", \n",
    "                                \"Avg Total Purchase per Person\": \"${:.2f}\"}) \\\n",
    "                       .set_table_styles(styles)"
   ]
  },
  {
   "cell_type": "markdown",
   "metadata": {},
   "source": [
    "## Top Spenders"
   ]
  },
  {
   "cell_type": "markdown",
   "metadata": {},
   "source": [
    "Identify the the top 5 spenders in the game by total purchase value:\n",
    "\n",
    "* Run basic calculations to obtain the results in the table below\n",
    "\n",
    "\n",
    "* Create a summary data frame to hold the results\n",
    "\n",
    "\n",
    "* Sort the total purchase value column in descending order\n",
    "\n",
    "\n",
    "* Optional: give the displayed data cleaner formatting\n",
    "\n",
    "\n",
    "* Display a preview of the summary data frame\n",
    "\n"
   ]
  },
  {
   "cell_type": "code",
   "execution_count": 103,
   "metadata": {
    "ExecuteTime": {
     "end_time": "2020-10-01T15:21:28.036656Z",
     "start_time": "2020-10-01T15:21:27.947320Z"
    }
   },
   "outputs": [
    {
     "data": {
      "text/html": [
       "<style  type=\"text/css\" >\n",
       "    #T_c6b3604e_03f9_11eb_82ba_00e0459d5c33 th {\n",
       "          border: thin solid;\n",
       "          text-align: left;\n",
       "          background-color: #dfdfdf;\n",
       "    }    #T_c6b3604e_03f9_11eb_82ba_00e0459d5c33 td {\n",
       "          border: thin solid;\n",
       "          text-align: left;\n",
       "    }</style><table id=\"T_c6b3604e_03f9_11eb_82ba_00e0459d5c33\" ><thead>    <tr>        <th class=\"blank level0\" ></th>        <th class=\"col_heading level0 col0\" >Purchase Count</th>        <th class=\"col_heading level0 col1\" >Average Purchase Price</th>        <th class=\"col_heading level0 col2\" >Total Purchase Value</th>    </tr>    <tr>        <th class=\"index_name level0\" >SN</th>        <th class=\"blank\" ></th>        <th class=\"blank\" ></th>        <th class=\"blank\" ></th>    </tr></thead><tbody>\n",
       "                <tr>\n",
       "                        <th id=\"T_c6b3604e_03f9_11eb_82ba_00e0459d5c33level0_row0\" class=\"row_heading level0 row0\" >Lisosia93</th>\n",
       "                        <td id=\"T_c6b3604e_03f9_11eb_82ba_00e0459d5c33row0_col0\" class=\"data row0 col0\" >5</td>\n",
       "                        <td id=\"T_c6b3604e_03f9_11eb_82ba_00e0459d5c33row0_col1\" class=\"data row0 col1\" >$3.79</td>\n",
       "                        <td id=\"T_c6b3604e_03f9_11eb_82ba_00e0459d5c33row0_col2\" class=\"data row0 col2\" >$18.96</td>\n",
       "            </tr>\n",
       "            <tr>\n",
       "                        <th id=\"T_c6b3604e_03f9_11eb_82ba_00e0459d5c33level0_row1\" class=\"row_heading level0 row1\" >Idastidru52</th>\n",
       "                        <td id=\"T_c6b3604e_03f9_11eb_82ba_00e0459d5c33row1_col0\" class=\"data row1 col0\" >4</td>\n",
       "                        <td id=\"T_c6b3604e_03f9_11eb_82ba_00e0459d5c33row1_col1\" class=\"data row1 col1\" >$3.86</td>\n",
       "                        <td id=\"T_c6b3604e_03f9_11eb_82ba_00e0459d5c33row1_col2\" class=\"data row1 col2\" >$15.45</td>\n",
       "            </tr>\n",
       "            <tr>\n",
       "                        <th id=\"T_c6b3604e_03f9_11eb_82ba_00e0459d5c33level0_row2\" class=\"row_heading level0 row2\" >Chamjask73</th>\n",
       "                        <td id=\"T_c6b3604e_03f9_11eb_82ba_00e0459d5c33row2_col0\" class=\"data row2 col0\" >3</td>\n",
       "                        <td id=\"T_c6b3604e_03f9_11eb_82ba_00e0459d5c33row2_col1\" class=\"data row2 col1\" >$4.61</td>\n",
       "                        <td id=\"T_c6b3604e_03f9_11eb_82ba_00e0459d5c33row2_col2\" class=\"data row2 col2\" >$13.83</td>\n",
       "            </tr>\n",
       "            <tr>\n",
       "                        <th id=\"T_c6b3604e_03f9_11eb_82ba_00e0459d5c33level0_row3\" class=\"row_heading level0 row3\" >Iral74</th>\n",
       "                        <td id=\"T_c6b3604e_03f9_11eb_82ba_00e0459d5c33row3_col0\" class=\"data row3 col0\" >4</td>\n",
       "                        <td id=\"T_c6b3604e_03f9_11eb_82ba_00e0459d5c33row3_col1\" class=\"data row3 col1\" >$3.40</td>\n",
       "                        <td id=\"T_c6b3604e_03f9_11eb_82ba_00e0459d5c33row3_col2\" class=\"data row3 col2\" >$13.62</td>\n",
       "            </tr>\n",
       "            <tr>\n",
       "                        <th id=\"T_c6b3604e_03f9_11eb_82ba_00e0459d5c33level0_row4\" class=\"row_heading level0 row4\" >Iskadarya95</th>\n",
       "                        <td id=\"T_c6b3604e_03f9_11eb_82ba_00e0459d5c33row4_col0\" class=\"data row4 col0\" >3</td>\n",
       "                        <td id=\"T_c6b3604e_03f9_11eb_82ba_00e0459d5c33row4_col1\" class=\"data row4 col1\" >$4.37</td>\n",
       "                        <td id=\"T_c6b3604e_03f9_11eb_82ba_00e0459d5c33row4_col2\" class=\"data row4 col2\" >$13.10</td>\n",
       "            </tr>\n",
       "    </tbody></table>"
      ],
      "text/plain": [
       "<pandas.io.formats.style.Styler at 0x1db5dd788e0>"
      ]
     },
     "execution_count": 103,
     "metadata": {},
     "output_type": "execute_result"
    }
   ],
   "source": [
    "# Using aggregate function to run basic calculations on Price group by SN\n",
    "spender_purchase_data = purchase_data.groupby(\"SN\")[\"Price\"].agg(['count','mean','sum'])\n",
    "\n",
    "# Renaming column headers \n",
    "spender_purchase_data = spender_purchase_data.rename(columns={\"count\":\"Purchase Count\", \n",
    "                                                              \"mean\":\"Average Purchase Price\", \n",
    "                                                              \"sum\":\"Total Purchase Value\"})\n",
    "\n",
    "# Sort in descending order of 'Total Purchase Value' and obtain top 5 spender names and adding currency format styling\n",
    "top_spenders = spender_purchase_data.sort_values([\"Total Purchase Value\"], ascending = False) \\\n",
    "               .head().style.format({\"Average Purchase Price\":\"${:.2f}\", \"Total Purchase Value\":\"${:.2f}\"}) \\\n",
    "                            .set_table_styles(styles)\n",
    "\n",
    "top_spenders"
   ]
  },
  {
   "cell_type": "markdown",
   "metadata": {},
   "source": [
    "## Most Popular Items"
   ]
  },
  {
   "cell_type": "markdown",
   "metadata": {},
   "source": [
    "Identify the 5 most popular items by purchase count:\n",
    "\n",
    "* Retrieve the Item ID, Item Name, and Item Price columns\n",
    "\n",
    "\n",
    "* Group by Item ID and Item Name. Perform calculations to obtain purchase count, item price, and total purchase value\n",
    "\n",
    "\n",
    "* Create a summary data frame to hold the results\n",
    "\n",
    "\n",
    "* Sort the purchase count column in descending order\n",
    "\n",
    "\n",
    "* Optional: give the displayed data cleaner formatting\n",
    "\n",
    "\n",
    "* Display a preview of the summary data frame\n",
    "\n"
   ]
  },
  {
   "cell_type": "code",
   "execution_count": 104,
   "metadata": {
    "ExecuteTime": {
     "end_time": "2020-10-01T15:21:28.116096Z",
     "start_time": "2020-10-01T15:21:28.037646Z"
    }
   },
   "outputs": [
    {
     "data": {
      "text/html": [
       "<style  type=\"text/css\" >\n",
       "    #T_c6bebd00_03f9_11eb_bb21_00e0459d5c33 th {\n",
       "          border: thin solid;\n",
       "          text-align: left;\n",
       "          background-color: #dfdfdf;\n",
       "    }    #T_c6bebd00_03f9_11eb_bb21_00e0459d5c33 td {\n",
       "          border: thin solid;\n",
       "          text-align: left;\n",
       "    }</style><table id=\"T_c6bebd00_03f9_11eb_bb21_00e0459d5c33\" ><thead>    <tr>        <th class=\"blank\" ></th>        <th class=\"blank level0\" ></th>        <th class=\"col_heading level0 col0\" >Purchase Count</th>        <th class=\"col_heading level0 col1\" >Item Price</th>        <th class=\"col_heading level0 col2\" >Total Purchase Value</th>    </tr>    <tr>        <th class=\"index_name level0\" >Item ID</th>        <th class=\"index_name level1\" >Item Name</th>        <th class=\"blank\" ></th>        <th class=\"blank\" ></th>        <th class=\"blank\" ></th>    </tr></thead><tbody>\n",
       "                <tr>\n",
       "                        <th id=\"T_c6bebd00_03f9_11eb_bb21_00e0459d5c33level0_row0\" class=\"row_heading level0 row0\" >92</th>\n",
       "                        <th id=\"T_c6bebd00_03f9_11eb_bb21_00e0459d5c33level1_row0\" class=\"row_heading level1 row0\" >Final Critic</th>\n",
       "                        <td id=\"T_c6bebd00_03f9_11eb_bb21_00e0459d5c33row0_col0\" class=\"data row0 col0\" >13</td>\n",
       "                        <td id=\"T_c6bebd00_03f9_11eb_bb21_00e0459d5c33row0_col1\" class=\"data row0 col1\" >$4.61</td>\n",
       "                        <td id=\"T_c6bebd00_03f9_11eb_bb21_00e0459d5c33row0_col2\" class=\"data row0 col2\" >$59.99</td>\n",
       "            </tr>\n",
       "            <tr>\n",
       "                        <th id=\"T_c6bebd00_03f9_11eb_bb21_00e0459d5c33level0_row1\" class=\"row_heading level0 row1\" >178</th>\n",
       "                        <th id=\"T_c6bebd00_03f9_11eb_bb21_00e0459d5c33level1_row1\" class=\"row_heading level1 row1\" >Oathbreaker, Last Hope of the Breaking Storm</th>\n",
       "                        <td id=\"T_c6bebd00_03f9_11eb_bb21_00e0459d5c33row1_col0\" class=\"data row1 col0\" >12</td>\n",
       "                        <td id=\"T_c6bebd00_03f9_11eb_bb21_00e0459d5c33row1_col1\" class=\"data row1 col1\" >$4.23</td>\n",
       "                        <td id=\"T_c6bebd00_03f9_11eb_bb21_00e0459d5c33row1_col2\" class=\"data row1 col2\" >$50.76</td>\n",
       "            </tr>\n",
       "            <tr>\n",
       "                        <th id=\"T_c6bebd00_03f9_11eb_bb21_00e0459d5c33level0_row2\" class=\"row_heading level0 row2\" >145</th>\n",
       "                        <th id=\"T_c6bebd00_03f9_11eb_bb21_00e0459d5c33level1_row2\" class=\"row_heading level1 row2\" >Fiery Glass Crusader</th>\n",
       "                        <td id=\"T_c6bebd00_03f9_11eb_bb21_00e0459d5c33row2_col0\" class=\"data row2 col0\" >9</td>\n",
       "                        <td id=\"T_c6bebd00_03f9_11eb_bb21_00e0459d5c33row2_col1\" class=\"data row2 col1\" >$4.58</td>\n",
       "                        <td id=\"T_c6bebd00_03f9_11eb_bb21_00e0459d5c33row2_col2\" class=\"data row2 col2\" >$41.22</td>\n",
       "            </tr>\n",
       "            <tr>\n",
       "                        <th id=\"T_c6bebd00_03f9_11eb_bb21_00e0459d5c33level0_row3\" class=\"row_heading level0 row3\" >132</th>\n",
       "                        <th id=\"T_c6bebd00_03f9_11eb_bb21_00e0459d5c33level1_row3\" class=\"row_heading level1 row3\" >Persuasion</th>\n",
       "                        <td id=\"T_c6bebd00_03f9_11eb_bb21_00e0459d5c33row3_col0\" class=\"data row3 col0\" >9</td>\n",
       "                        <td id=\"T_c6bebd00_03f9_11eb_bb21_00e0459d5c33row3_col1\" class=\"data row3 col1\" >$3.22</td>\n",
       "                        <td id=\"T_c6bebd00_03f9_11eb_bb21_00e0459d5c33row3_col2\" class=\"data row3 col2\" >$28.99</td>\n",
       "            </tr>\n",
       "            <tr>\n",
       "                        <th id=\"T_c6bebd00_03f9_11eb_bb21_00e0459d5c33level0_row4\" class=\"row_heading level0 row4\" >108</th>\n",
       "                        <th id=\"T_c6bebd00_03f9_11eb_bb21_00e0459d5c33level1_row4\" class=\"row_heading level1 row4\" >Extraction, Quickblade Of Trembling Hands</th>\n",
       "                        <td id=\"T_c6bebd00_03f9_11eb_bb21_00e0459d5c33row4_col0\" class=\"data row4 col0\" >9</td>\n",
       "                        <td id=\"T_c6bebd00_03f9_11eb_bb21_00e0459d5c33row4_col1\" class=\"data row4 col1\" >$3.53</td>\n",
       "                        <td id=\"T_c6bebd00_03f9_11eb_bb21_00e0459d5c33row4_col2\" class=\"data row4 col2\" >$31.77</td>\n",
       "            </tr>\n",
       "    </tbody></table>"
      ],
      "text/plain": [
       "<pandas.io.formats.style.Styler at 0x1db5dd24b80>"
      ]
     },
     "execution_count": 104,
     "metadata": {},
     "output_type": "execute_result"
    }
   ],
   "source": [
    "# Retrieve the Item ID, Item Name, and Item Price columns\n",
    "item_data = purchase_data.loc[:,[\"Item ID\", \"Item Name\", \"Price\"]]\n",
    "\n",
    "# Group by Item ID and Item Name\n",
    "item_group = item_data.groupby([\"Item ID\",\"Item Name\"])\n",
    "\n",
    "# create a data frame with calculated values of purchase count, item price, and total purchase value\n",
    "item_purchase_data = pd.DataFrame({\"Purchase Count\":item_group[\"Price\"].count(),\n",
    "                                  \"Item Price\":item_group[\"Price\"].mean(),\n",
    "                                  \"Total Purchase Value\":item_group[\"Price\"].sum()})\n",
    "\n",
    "# Sort in descending order of 'Purchase Count' and obtain top 5 Popular Items and adding currency format styling\n",
    "top_items = item_purchase_data.sort_values([\"Purchase Count\"], ascending = False) \\\n",
    "                              .head() \\\n",
    "                              .style.format({\"Item Price\":\"${:.2f}\", \"Total Purchase Value\":\"${:.2f}\"}) \\\n",
    "                                    .set_table_styles(styles)\n",
    "\n",
    "top_items"
   ]
  },
  {
   "cell_type": "markdown",
   "metadata": {},
   "source": [
    "## Most Profitable Items"
   ]
  },
  {
   "cell_type": "markdown",
   "metadata": {},
   "source": [
    "Identify the 5 most profitable items by total purchase value:\n",
    "\n",
    "* Sort the above table by total purchase value in descending order\n",
    "\n",
    "\n",
    "* Optional: give the displayed data cleaner formatting\n",
    "\n",
    "\n",
    "* Display a preview of the data frame\n",
    "\n"
   ]
  },
  {
   "cell_type": "code",
   "execution_count": 105,
   "metadata": {
    "ExecuteTime": {
     "end_time": "2020-10-01T15:21:28.193871Z",
     "start_time": "2020-10-01T15:21:28.118095Z"
    },
    "scrolled": true
   },
   "outputs": [
    {
     "data": {
      "text/html": [
       "<style  type=\"text/css\" >\n",
       "    #T_c6ca9aa9_03f9_11eb_a246_00e0459d5c33 th {\n",
       "          border: thin solid;\n",
       "          text-align: left;\n",
       "          background-color: #dfdfdf;\n",
       "    }    #T_c6ca9aa9_03f9_11eb_a246_00e0459d5c33 td {\n",
       "          border: thin solid;\n",
       "          text-align: left;\n",
       "    }</style><table id=\"T_c6ca9aa9_03f9_11eb_a246_00e0459d5c33\" ><thead>    <tr>        <th class=\"blank\" ></th>        <th class=\"blank level0\" ></th>        <th class=\"col_heading level0 col0\" >Purchase Count</th>        <th class=\"col_heading level0 col1\" >Item Price</th>        <th class=\"col_heading level0 col2\" >Total Purchase Value</th>    </tr>    <tr>        <th class=\"index_name level0\" >Item ID</th>        <th class=\"index_name level1\" >Item Name</th>        <th class=\"blank\" ></th>        <th class=\"blank\" ></th>        <th class=\"blank\" ></th>    </tr></thead><tbody>\n",
       "                <tr>\n",
       "                        <th id=\"T_c6ca9aa9_03f9_11eb_a246_00e0459d5c33level0_row0\" class=\"row_heading level0 row0\" >92</th>\n",
       "                        <th id=\"T_c6ca9aa9_03f9_11eb_a246_00e0459d5c33level1_row0\" class=\"row_heading level1 row0\" >Final Critic</th>\n",
       "                        <td id=\"T_c6ca9aa9_03f9_11eb_a246_00e0459d5c33row0_col0\" class=\"data row0 col0\" >13</td>\n",
       "                        <td id=\"T_c6ca9aa9_03f9_11eb_a246_00e0459d5c33row0_col1\" class=\"data row0 col1\" >$4.61</td>\n",
       "                        <td id=\"T_c6ca9aa9_03f9_11eb_a246_00e0459d5c33row0_col2\" class=\"data row0 col2\" >$59.99</td>\n",
       "            </tr>\n",
       "            <tr>\n",
       "                        <th id=\"T_c6ca9aa9_03f9_11eb_a246_00e0459d5c33level0_row1\" class=\"row_heading level0 row1\" >178</th>\n",
       "                        <th id=\"T_c6ca9aa9_03f9_11eb_a246_00e0459d5c33level1_row1\" class=\"row_heading level1 row1\" >Oathbreaker, Last Hope of the Breaking Storm</th>\n",
       "                        <td id=\"T_c6ca9aa9_03f9_11eb_a246_00e0459d5c33row1_col0\" class=\"data row1 col0\" >12</td>\n",
       "                        <td id=\"T_c6ca9aa9_03f9_11eb_a246_00e0459d5c33row1_col1\" class=\"data row1 col1\" >$4.23</td>\n",
       "                        <td id=\"T_c6ca9aa9_03f9_11eb_a246_00e0459d5c33row1_col2\" class=\"data row1 col2\" >$50.76</td>\n",
       "            </tr>\n",
       "            <tr>\n",
       "                        <th id=\"T_c6ca9aa9_03f9_11eb_a246_00e0459d5c33level0_row2\" class=\"row_heading level0 row2\" >82</th>\n",
       "                        <th id=\"T_c6ca9aa9_03f9_11eb_a246_00e0459d5c33level1_row2\" class=\"row_heading level1 row2\" >Nirvana</th>\n",
       "                        <td id=\"T_c6ca9aa9_03f9_11eb_a246_00e0459d5c33row2_col0\" class=\"data row2 col0\" >9</td>\n",
       "                        <td id=\"T_c6ca9aa9_03f9_11eb_a246_00e0459d5c33row2_col1\" class=\"data row2 col1\" >$4.90</td>\n",
       "                        <td id=\"T_c6ca9aa9_03f9_11eb_a246_00e0459d5c33row2_col2\" class=\"data row2 col2\" >$44.10</td>\n",
       "            </tr>\n",
       "            <tr>\n",
       "                        <th id=\"T_c6ca9aa9_03f9_11eb_a246_00e0459d5c33level0_row3\" class=\"row_heading level0 row3\" >145</th>\n",
       "                        <th id=\"T_c6ca9aa9_03f9_11eb_a246_00e0459d5c33level1_row3\" class=\"row_heading level1 row3\" >Fiery Glass Crusader</th>\n",
       "                        <td id=\"T_c6ca9aa9_03f9_11eb_a246_00e0459d5c33row3_col0\" class=\"data row3 col0\" >9</td>\n",
       "                        <td id=\"T_c6ca9aa9_03f9_11eb_a246_00e0459d5c33row3_col1\" class=\"data row3 col1\" >$4.58</td>\n",
       "                        <td id=\"T_c6ca9aa9_03f9_11eb_a246_00e0459d5c33row3_col2\" class=\"data row3 col2\" >$41.22</td>\n",
       "            </tr>\n",
       "            <tr>\n",
       "                        <th id=\"T_c6ca9aa9_03f9_11eb_a246_00e0459d5c33level0_row4\" class=\"row_heading level0 row4\" >103</th>\n",
       "                        <th id=\"T_c6ca9aa9_03f9_11eb_a246_00e0459d5c33level1_row4\" class=\"row_heading level1 row4\" >Singed Scalpel</th>\n",
       "                        <td id=\"T_c6ca9aa9_03f9_11eb_a246_00e0459d5c33row4_col0\" class=\"data row4 col0\" >8</td>\n",
       "                        <td id=\"T_c6ca9aa9_03f9_11eb_a246_00e0459d5c33row4_col1\" class=\"data row4 col1\" >$4.35</td>\n",
       "                        <td id=\"T_c6ca9aa9_03f9_11eb_a246_00e0459d5c33row4_col2\" class=\"data row4 col2\" >$34.80</td>\n",
       "            </tr>\n",
       "    </tbody></table>"
      ],
      "text/plain": [
       "<pandas.io.formats.style.Styler at 0x1db5ef38040>"
      ]
     },
     "execution_count": 105,
     "metadata": {},
     "output_type": "execute_result"
    }
   ],
   "source": [
    "# Sort in descending order of 'Total Purchase Value' and obtain top 5 Profitable Items and adding currency format styling\n",
    "top_profitable_item = item_purchase_data.sort_values([\"Total Purchase Value\"], ascending = False) \\\n",
    "                      .head().style.format({\"Item Price\":\"${:.2f}\", \"Total Purchase Value\":\"${:.2f}\"}) \\\n",
    "                                   .set_table_styles(styles)\n",
    "top_profitable_item"
   ]
  },
  {
   "cell_type": "code",
   "execution_count": null,
   "metadata": {},
   "outputs": [],
   "source": []
  }
 ],
 "metadata": {
  "anaconda-cloud": {},
  "kernel_info": {
   "name": "python3"
  },
  "kernelspec": {
   "display_name": "Python 3",
   "language": "python",
   "name": "python3"
  },
  "language_info": {
   "codemirror_mode": {
    "name": "ipython",
    "version": 3
   },
   "file_extension": ".py",
   "mimetype": "text/x-python",
   "name": "python",
   "nbconvert_exporter": "python",
   "pygments_lexer": "ipython3",
   "version": "3.8.3"
  },
  "latex_envs": {
   "LaTeX_envs_menu_present": true,
   "autoclose": false,
   "autocomplete": true,
   "bibliofile": "biblio.bib",
   "cite_by": "apalike",
   "current_citInitial": 1,
   "eqLabelWithNumbers": true,
   "eqNumInitial": 1,
   "hotkeys": {
    "equation": "Ctrl-E",
    "itemize": "Ctrl-I"
   },
   "labels_anchors": false,
   "latex_user_defs": false,
   "report_style_numbering": false,
   "user_envs_cfg": false
  },
  "nteract": {
   "version": "0.2.0"
  }
 },
 "nbformat": 4,
 "nbformat_minor": 2
}
